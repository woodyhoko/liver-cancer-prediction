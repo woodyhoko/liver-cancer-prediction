{
 "cells": [
  {
   "cell_type": "code",
   "execution_count": 86,
   "metadata": {},
   "outputs": [],
   "source": [
    "import pandas as pd\n",
    "# import scipy.stats as stats\n",
    "from statsmodels.stats.weightstats import ztest"
   ]
  },
  {
   "cell_type": "code",
   "execution_count": 13,
   "metadata": {},
   "outputs": [],
   "source": [
    "data = pd.read_csv(\"data_RNA_Seq_v2_expression_median.txt\",delimiter='\\t')\n",
    "dataz = pd.read_csv(\"data_RNA_Seq_v2_mRNA_median_Zscores.txt\",delimiter='\\t')"
   ]
  },
  {
   "cell_type": "markdown",
   "metadata": {},
   "source": [
    "data.head()"
   ]
  },
  {
   "cell_type": "code",
   "execution_count": 16,
   "metadata": {},
   "outputs": [],
   "source": [
    "# dataz.head()"
   ]
  },
  {
   "cell_type": "code",
   "execution_count": 17,
   "metadata": {},
   "outputs": [],
   "source": [
    "clinical_data= pd.read_csv(\"data_bcr_clinical_data_patient.txt\",delimiter='\\t')"
   ]
  },
  {
   "cell_type": "code",
   "execution_count": 33,
   "metadata": {},
   "outputs": [
    {
     "name": "stdout",
     "output_type": "stream",
     "text": [
      "TCGA-2V-A95S\n"
     ]
    }
   ],
   "source": [
    "for n in range(4,377):\n",
    "    print(clinical_data.iloc[4:,:][\"Patient Identifier\"][n])\n",
    "    break"
   ]
  },
  {
   "cell_type": "code",
   "execution_count": 28,
   "metadata": {},
   "outputs": [
    {
     "data": {
      "text/plain": [
       "(377, 78)"
      ]
     },
     "execution_count": 28,
     "metadata": {},
     "output_type": "execute_result"
    }
   ],
   "source": [
    "clinical_data.iloc[4:,:].shape"
   ]
  },
  {
   "cell_type": "code",
   "execution_count": 39,
   "metadata": {},
   "outputs": [
    {
     "data": {
      "text/plain": [
       "Index(['#Other Patient ID', 'Patient Identifier', 'Form completion date',\n",
       "       'Tissue Prospective Collection Indicator',\n",
       "       'Tissue Retrospective Collection Indicator', 'Sex', 'Patient Height',\n",
       "       'Patient Weight', 'Race Category', 'Ethnicity Category',\n",
       "       'Prior Cancer Diagnosis Occurence',\n",
       "       'Neoadjuvant Therapy Type Administered Prior To Resection Text',\n",
       "       'Person Neoplasm Status', 'Patient's Vital Status',\n",
       "       'Family History of Cancer',\n",
       "       'Cancer diagnosis first degree relative number',\n",
       "       'History hepato carcinoma risk factor',\n",
       "       'History hepato carcinoma risk factor other',\n",
       "       'Did patient start adjuvant postoperative radiotherapy?',\n",
       "       'Adjuvant Postoperative Pharmaceutical Therapy Administered Indicator',\n",
       "       'Ablation embolization tx adjuvant', 'Neoplasm Histologic Type Name',\n",
       "       'Specimen collection method name', 'Neoplasm Histologic Grade',\n",
       "       'Surgical Margin Resection Status',\n",
       "       'American Joint Committee on Cancer Publication Version Type',\n",
       "       'American Joint Committee on Cancer Tumor Stage Code',\n",
       "       'Neoplasm Disease Lymph Node Stage American Joint Committee on Cancer Code',\n",
       "       'American Joint Committee on Cancer Metastasis Stage Code',\n",
       "       'Neoplasm Disease Stage American Joint Committee on Cancer Code',\n",
       "       'Vascular Invasion', 'Child pugh classification grade',\n",
       "       'AFP At Procurement', 'AFP Normal Range Lower Bound',\n",
       "       'AFP Normal Range Higher Bound', 'Platelet count preresection',\n",
       "       'Laboratory prcoedure platelet result lower limit of normal value',\n",
       "       'Laboratory prcoedure platelet result upper limit of normal value',\n",
       "       'Laboratory procedure prothrombin time result value',\n",
       "       'Laboratory procedure international normalization ratio result lower limit of normal value',\n",
       "       'Laboratory procedure international normalization ratio result upper limit of normal value',\n",
       "       'Laboratory procedure albumin result specified value',\n",
       "       'Laboratory procedure albumin result lower limit of normal value',\n",
       "       'Laboratory procedure albumin result upper limit of normal value',\n",
       "       'Bilirubin Total Norm Range Upper', 'Bilirubin Total Norm Range Lower',\n",
       "       'Bilirubin Total',\n",
       "       'Hematology serum creatinine laboratory result value in mg dl',\n",
       "       'Laboratory procedure creatinine result lower limit of normal value',\n",
       "       'Laboratory procedure creatinine result upper limit of normal value',\n",
       "       'Liver fibrosis ishak score category',\n",
       "       'Adjacent hepatic tissue inflammation extent type',\n",
       "       'Performance Status',\n",
       "       'New Neoplasm Event Post Initial Therapy Indicator', 'Diagnosis Age',\n",
       "       'Birth from Initial Pathologic Diagnosis Date',\n",
       "       'Neoplasm American Joint Committee on Cancer Clinical Distant Metastasis M Stage',\n",
       "       'Neoplasm American Joint Committee on Cancer Clinical Regional Lymph Node N Stage',\n",
       "       'Neoplasm American Joint Committee on Cancer Clinical Primary Tumor T Stage',\n",
       "       'Neoplasm American Joint Committee on Cancer Clinical Group Stage',\n",
       "       'Last Alive Less Initial Pathologic Diagnosis Date Calculated Day Value',\n",
       "       'Death from Initial Pathologic Diagnosis Date', 'Disease code',\n",
       "       'Lymphomatous Extranodal Site Involvement Indicator',\n",
       "       'ICD-10 Classification',\n",
       "       'International Classification of Diseases for Oncology, Third Edition ICD-O-3 Histology Code',\n",
       "       'International Classification of Diseases for Oncology, Third Edition ICD-O-3 Site Code',\n",
       "       'Informed consent verified', 'Days to Last Followup', 'Project code',\n",
       "       'Stage Other', 'Tissue Source Site', 'Tumor Tissue Site',\n",
       "       'Year of initial pathologic diagnosis', 'Overall Survival Status',\n",
       "       'Overall Survival (Months)', 'Disease Free Status',\n",
       "       'Disease Free (Months)'],\n",
       "      dtype='object')"
      ]
     },
     "execution_count": 39,
     "metadata": {},
     "output_type": "execute_result"
    }
   ],
   "source": [
    "clinical_data.columns"
   ]
  },
  {
   "cell_type": "code",
   "execution_count": 51,
   "metadata": {},
   "outputs": [],
   "source": [
    "data[clinical_data.iloc[4:,:][\"Patient Identifier\"][4]+'-01']\n",
    "survi = clinical_data.iloc[4:,:][clinical_data.iloc[4:,:][\"Overall Survival Status\"]==\"DECEASED\"]\n",
    "deadi = clinical_data.iloc[4:,:][clinical_data.iloc[4:,:][\"Overall Survival Status\"]==\"LIVING\"]"
   ]
  },
  {
   "cell_type": "code",
   "execution_count": 74,
   "metadata": {},
   "outputs": [
    {
     "name": "stdout",
     "output_type": "stream",
     "text": [
      "extracting survi_rna\n",
      "missing\n",
      "missing\n",
      "extracting deadi_rna\n",
      "missing\n",
      "missing\n",
      "missing\n",
      "missing\n",
      "done\n"
     ]
    }
   ],
   "source": [
    "survi_rna = []\n",
    "deadi_rna = []\n",
    "print('extracting survi_rna')\n",
    "for survi_id in survi[\"Patient Identifier\"]:\n",
    "    try:\n",
    "        survi_rna += [data[survi_id+'-01']]\n",
    "    except:\n",
    "        print(\"missing\")\n",
    "print('extracting deadi_rna')\n",
    "for deadi_id in deadi[\"Patient Identifier\"]:\n",
    "    try:\n",
    "        deadi_rna += [data[deadi_id+'-01']]\n",
    "    except:\n",
    "        print(\"missing\")\n",
    "print('done')\n",
    "# deadi.shape"
   ]
  },
  {
   "cell_type": "code",
   "execution_count": 99,
   "metadata": {},
   "outputs": [
    {
     "name": "stderr",
     "output_type": "stream",
     "text": [
      "/Library/Frameworks/Python.framework/Versions/3.6/lib/python3.6/site-packages/statsmodels/stats/weightstats.py:654: RuntimeWarning: invalid value encountered in double_scalars\n",
      "  zstat = (value1 - value2 - diff) / std_diff\n"
     ]
    }
   ],
   "source": [
    "for i,n in enumerate(range(len(survi_rna[0]))):\n",
    "    i,ztest([survi_rna[x][n] for x in range(len(survi_rna))],[deadi_rna[x][n] for x in range(len(deadi_rna))])\n",
    "    if (i==6000):\n",
    "        break"
   ]
  },
  {
   "cell_type": "code",
   "execution_count": 93,
   "metadata": {},
   "outputs": [
    {
     "data": {
      "text/plain": [
       "(0.8628110367878701, 0.3882413699752495)"
      ]
     },
     "execution_count": 93,
     "metadata": {},
     "output_type": "execute_result"
    }
   ],
   "source": [
    "survi_rna[0]\n",
    "for x in range(len(surv))\n",
    "ztest([survi_rna[x][0] for x in range(len(survi_rna))],[deadi_rna[x][0] for x in range(len(deadi_rna))])"
   ]
  },
  {
   "cell_type": "code",
   "execution_count": null,
   "metadata": {},
   "outputs": [],
   "source": []
  }
 ],
 "metadata": {
  "kernelspec": {
   "display_name": "Python 3",
   "language": "python",
   "name": "python3"
  },
  "language_info": {
   "codemirror_mode": {
    "name": "ipython",
    "version": 3
   },
   "file_extension": ".py",
   "mimetype": "text/x-python",
   "name": "python",
   "nbconvert_exporter": "python",
   "pygments_lexer": "ipython3",
   "version": "3.6.2"
  }
 },
 "nbformat": 4,
 "nbformat_minor": 2
}
